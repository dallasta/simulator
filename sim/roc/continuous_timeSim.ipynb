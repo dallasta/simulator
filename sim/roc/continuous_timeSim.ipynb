{
 "cells": [
  {
   "cell_type": "markdown",
   "metadata": {},
   "source": [
    "## Generate a single continuous-time simulation"
   ]
  },
  {
   "cell_type": "code",
   "execution_count": 1,
   "metadata": {},
   "outputs": [],
   "source": [
    "import numpy as np\n",
    "import math,pickle\n",
    "import pandas as pd"
   ]
  },
  {
   "cell_type": "code",
   "execution_count": 2,
   "metadata": {},
   "outputs": [],
   "source": [
    "import sys\n",
    "if '..' not in sys.path:\n",
    "    sys.path.append('..')\n",
    "\n",
    "from lib.mobilitysim_split import MobilitySimulator\n",
    "from lib.distrib import CovidDistributions\n",
    "from lib.slim_dynamics import *"
   ]
  },
  {
   "cell_type": "code",
   "execution_count": 3,
   "metadata": {},
   "outputs": [],
   "source": [
    "#duration of the simulation in hours\n",
    "max_time= 480 #in hours"
   ]
  },
  {
   "cell_type": "code",
   "execution_count": 4,
   "metadata": {},
   "outputs": [],
   "source": [
    "from lib.settings.town_settings_tubingen import *\n",
    "mob_settings = '../lib/mobility/Isle_of_Wight_settings_pop10_site10.pk'  \n",
    "\n",
    "\n",
    "# See town-generator.ipynb for an example on how to create the settings\n",
    "with open(mob_settings, 'rb') as fp:\n",
    "    obj = pickle.load(fp)\n",
    "    \n",
    "n_indiv=int(obj['num_people_unscaled']/obj['downsample_pop'])"
   ]
  },
  {
   "cell_type": "markdown",
   "metadata": {},
   "source": [
    "All necessary distributions with parameteres from recent literature are imported"
   ]
  },
  {
   "cell_type": "code",
   "execution_count": 5,
   "metadata": {},
   "outputs": [],
   "source": [
    "country = 'GBR'\n",
    "distributions = CovidDistributions(country=country)"
   ]
  },
  {
   "cell_type": "code",
   "execution_count": 6,
   "metadata": {},
   "outputs": [],
   "source": [
    "beta = 1.0 # this parameter enters in the conditional intensity during contacts \n",
    "\n",
    "#possibly different values of beta can be defined or inferred (see calibrate.py)\n",
    "intensity_params = {\n",
    "    'betas' : {\n",
    "        'education': beta,\n",
    "        'social': beta,\n",
    "        'bus_stop': beta,\n",
    "        'office': beta,\n",
    "        'supermarket': beta}, \n",
    "    'beta_household' : beta\n",
    "}"
   ]
  },
  {
   "cell_type": "markdown",
   "metadata": {},
   "source": [
    "Set the initial seed of numpy "
   ]
  },
  {
   "cell_type": "code",
   "execution_count": 7,
   "metadata": {},
   "outputs": [],
   "source": [
    "# Choose random seed\n",
    "c = 0\n",
    "np.random.seed(c)\n",
    "# Define prefix string used to save plots\n",
    "runstr = f'run{c}_'"
   ]
  },
  {
   "cell_type": "markdown",
   "metadata": {},
   "source": [
    "Set initial seeds of infection"
   ]
  },
  {
   "cell_type": "code",
   "execution_count": 8,
   "metadata": {},
   "outputs": [
    {
     "data": {
      "text/plain": [
       "{'expo': [10989, 45, 10761, 9470, 7362],\n",
       " 'isym': [3824, 11689, 6343],\n",
       " 'iasy': [6550, 5034]}"
      ]
     },
     "execution_count": 8,
     "metadata": {},
     "output_type": "execute_result"
    }
   ],
   "source": [
    "initial_counts = {'expo': 5, 'isym': 3, 'iasy': 2} #in the form {'expo': 7, 'isym_posi': 2, 'iasy': 2}\n",
    "initial_seeds=get_seeds(n_indiv, initial_counts)\n",
    "initial_seeds"
   ]
  },
  {
   "cell_type": "markdown",
   "metadata": {},
   "source": [
    "Run the epidemic simulation"
   ]
  },
  {
   "cell_type": "code",
   "execution_count": 9,
   "metadata": {},
   "outputs": [
    {
     "name": "stdout",
     "output_type": "stream",
     "text": [
      "t: 480 | 480 hrs (20 d)\n",
      "[Reached max time: 480h (20d)]\n"
     ]
    }
   ],
   "source": [
    "results = run(mob_settings, intensity_params, distributions, max_time, initial_seeds)"
   ]
  },
  {
   "cell_type": "markdown",
   "metadata": {},
   "source": [
    "Plot aggregate results"
   ]
  },
  {
   "cell_type": "code",
   "execution_count": 10,
   "metadata": {},
   "outputs": [
    {
     "data": {
      "image/png": "[encoded data removed]",
      "text/plain": [
       "<Figure size 576x432 with 1 Axes>"
      ]
     },
     "metadata": {
      "needs_background": "light"
     },
     "output_type": "display_data"
    }
   ],
   "source": [
    "import matplotlib.pyplot as plt\n",
    "%matplotlib inline\n",
    "plt.figure(figsize=(8,6))\n",
    "states=['expo','ipre','iasy','isym','hosp']\n",
    "ts, val = comp_state_over_time(results, states)\n",
    "plt.plot(ts, val, c='b', linestyle='-',label='all infected')\n",
    "states=['resi','dead']\n",
    "ts, val = comp_state_over_time(results, states)\n",
    "plt.plot(ts, val, c='r', linestyle='-',label='all recovered')\n",
    "plt.xlabel('days',fontsize=16)\n",
    "plt.xticks(fontsize=14)\n",
    "plt.yticks(fontsize=14)\n",
    "plt.legend(fontsize=18)\n",
    "plt.show()"
   ]
  },
  {
   "cell_type": "markdown",
   "metadata": {},
   "source": [
    "#### Extract temporal pairwise contacts (co-occurrencies in sites) with time coordinates and duration"
   ]
  },
  {
   "cell_type": "code",
   "execution_count": 11,
   "metadata": {},
   "outputs": [],
   "source": [
    "cont=[]\n",
    "for i in results.mob.contacts:\n",
    "    for j in results.mob.contacts[i]:\n",
    "        for h in results.mob.contacts[i][j]:\n",
    "            cont.append((h.indiv_i,h.indiv_j,h.t_from, h.t_to, h.t_to-h.t_from))\n",
    "            \n",
    "contact_raw= pd.DataFrame(data=cont, columns=['indiv_i', 'indiv_j', 't_from', 't_to', 'deltat'])\n",
    "\n",
    "contact_raw.to_csv('contacts_IsleWight.csv', index=True) "
   ]
  },
  {
   "cell_type": "markdown",
   "metadata": {},
   "source": [
    "#### Generate coarse-grained temporal contact network"
   ]
  },
  {
   "cell_type": "markdown",
   "metadata": {},
   "source": [
    "Keep only contacts lasting more than $t_{res}$ (now set to 15 min) and coarse-grain them into daily contacts"
   ]
  },
  {
   "cell_type": "code",
   "execution_count": 12,
   "metadata": {},
   "outputs": [
    {
     "data": {
      "text/html": [
       "<div>\n",
       "<style scoped>\n",
       "    .dataframe tbody tr th:only-of-type {\n",
       "        vertical-align: middle;\n",
       "    }\n",
       "\n",
       "    .dataframe tbody tr th {\n",
       "        vertical-align: top;\n",
       "    }\n",
       "\n",
       "    .dataframe thead th {\n",
       "        text-align: right;\n",
       "    }\n",
       "</style>\n",
       "<table border=\"1\" class=\"dataframe\">\n",
       "  <thead>\n",
       "    <tr style=\"text-align: right;\">\n",
       "      <th></th>\n",
       "      <th>indiv_i</th>\n",
       "      <th>indiv_j</th>\n",
       "      <th>t_from</th>\n",
       "      <th>t_to</th>\n",
       "      <th>deltat</th>\n",
       "    </tr>\n",
       "  </thead>\n",
       "  <tbody>\n",
       "    <tr>\n",
       "      <th>0</th>\n",
       "      <td>0</td>\n",
       "      <td>79</td>\n",
       "      <td>165.699811</td>\n",
       "      <td>166.181115</td>\n",
       "      <td>0.481304</td>\n",
       "    </tr>\n",
       "    <tr>\n",
       "      <th>1</th>\n",
       "      <td>0</td>\n",
       "      <td>79</td>\n",
       "      <td>394.830919</td>\n",
       "      <td>396.180794</td>\n",
       "      <td>1.349875</td>\n",
       "    </tr>\n",
       "    <tr>\n",
       "      <th>2</th>\n",
       "      <td>0</td>\n",
       "      <td>963</td>\n",
       "      <td>395.162997</td>\n",
       "      <td>396.180794</td>\n",
       "      <td>1.017797</td>\n",
       "    </tr>\n",
       "    <tr>\n",
       "      <th>3</th>\n",
       "      <td>0</td>\n",
       "      <td>1121</td>\n",
       "      <td>395.782116</td>\n",
       "      <td>396.180794</td>\n",
       "      <td>0.398678</td>\n",
       "    </tr>\n",
       "    <tr>\n",
       "      <th>4</th>\n",
       "      <td>0</td>\n",
       "      <td>2127</td>\n",
       "      <td>394.830919</td>\n",
       "      <td>395.776697</td>\n",
       "      <td>0.945778</td>\n",
       "    </tr>\n",
       "    <tr>\n",
       "      <th>...</th>\n",
       "      <td>...</td>\n",
       "      <td>...</td>\n",
       "      <td>...</td>\n",
       "      <td>...</td>\n",
       "      <td>...</td>\n",
       "    </tr>\n",
       "    <tr>\n",
       "      <th>3070279</th>\n",
       "      <td>14193</td>\n",
       "      <td>7782</td>\n",
       "      <td>368.380740</td>\n",
       "      <td>368.734494</td>\n",
       "      <td>0.353754</td>\n",
       "    </tr>\n",
       "    <tr>\n",
       "      <th>3070280</th>\n",
       "      <td>14193</td>\n",
       "      <td>9837</td>\n",
       "      <td>368.380740</td>\n",
       "      <td>368.734494</td>\n",
       "      <td>0.353754</td>\n",
       "    </tr>\n",
       "    <tr>\n",
       "      <th>3070281</th>\n",
       "      <td>14193</td>\n",
       "      <td>12023</td>\n",
       "      <td>368.380740</td>\n",
       "      <td>368.734494</td>\n",
       "      <td>0.353754</td>\n",
       "    </tr>\n",
       "    <tr>\n",
       "      <th>3070282</th>\n",
       "      <td>14193</td>\n",
       "      <td>13634</td>\n",
       "      <td>368.380740</td>\n",
       "      <td>368.734494</td>\n",
       "      <td>0.353754</td>\n",
       "    </tr>\n",
       "    <tr>\n",
       "      <th>3070283</th>\n",
       "      <td>14193</td>\n",
       "      <td>14021</td>\n",
       "      <td>368.380740</td>\n",
       "      <td>368.734494</td>\n",
       "      <td>0.353754</td>\n",
       "    </tr>\n",
       "  </tbody>\n",
       "</table>\n",
       "<p>3070284 rows × 5 columns</p>\n",
       "</div>"
      ],
      "text/plain": [
       "         indiv_i  indiv_j      t_from        t_to    deltat\n",
       "0              0       79  165.699811  166.181115  0.481304\n",
       "1              0       79  394.830919  396.180794  1.349875\n",
       "2              0      963  395.162997  396.180794  1.017797\n",
       "3              0     1121  395.782116  396.180794  0.398678\n",
       "4              0     2127  394.830919  395.776697  0.945778\n",
       "...          ...      ...         ...         ...       ...\n",
       "3070279    14193     7782  368.380740  368.734494  0.353754\n",
       "3070280    14193     9837  368.380740  368.734494  0.353754\n",
       "3070281    14193    12023  368.380740  368.734494  0.353754\n",
       "3070282    14193    13634  368.380740  368.734494  0.353754\n",
       "3070283    14193    14021  368.380740  368.734494  0.353754\n",
       "\n",
       "[3070284 rows x 5 columns]"
      ]
     },
     "execution_count": 12,
     "metadata": {},
     "output_type": "execute_result"
    }
   ],
   "source": [
    "t_res=0.25\n",
    "contact_raw2=contact_raw[contact_raw['deltat']>t_res]\n",
    "contact_raw2=contact_raw2.reset_index()\n",
    "contact_raw2.drop(columns=['index'],inplace=True)\n",
    "contact_raw2"
   ]
  },
  {
   "cell_type": "code",
   "execution_count": 13,
   "metadata": {},
   "outputs": [
    {
     "name": "stdout",
     "output_type": "stream",
     "text": [
      "[  0.  24.  48.  72.  96. 120. 144. 168. 192. 216. 240. 264. 288. 312.\n",
      " 336. 360. 384. 408. 432. 456. 480.]\n"
     ]
    }
   ],
   "source": [
    "t_unit = 24\n",
    "period = np.arange(0,max_time+t_unit,t_unit*1.0)\n",
    "print(period)"
   ]
  },
  {
   "cell_type": "code",
   "execution_count": 14,
   "metadata": {},
   "outputs": [],
   "source": [
    "n_contacts=len(contact_raw2)\n",
    "indiv_i=contact_raw2.indiv_i.to_numpy()\n",
    "indiv_j=contact_raw2.indiv_j.to_numpy()\n",
    "t_from=contact_raw2.t_from.to_numpy()\n",
    "t_to=contact_raw2.t_to.to_numpy()\n",
    "dt=contact_raw2.deltat.to_numpy()    "
   ]
  },
  {
   "cell_type": "code",
   "execution_count": 15,
   "metadata": {},
   "outputs": [],
   "source": [
    "cont_sqzd_dict={}\n",
    "for i in range(n_contacts):\n",
    "    mlen=int(dt[i]//t_unit)\n",
    "    for s in range(mlen+1):\n",
    "        a=(indiv_i[i],indiv_j[i],int(t_from[i])//t_unit +s)\n",
    "        if a in cont_sqzd_dict:\n",
    "            cont_sqzd_dict[a]+=(1 if s<mlen else (dt[i]/t_unit - mlen))           \n",
    "        else:\n",
    "            cont_sqzd_dict[a]=(1 if s<mlen else (dt[i]/t_unit - mlen))"
   ]
  },
  {
   "cell_type": "markdown",
   "metadata": {},
   "source": [
    "Save contacts with individual-based daily transmission coefficients based on duration and intensity parameter $\\beta$"
   ]
  },
  {
   "cell_type": "code",
   "execution_count": 16,
   "metadata": {},
   "outputs": [],
   "source": [
    "cont_sqzd=[]\n",
    "l=list(cont_sqzd_dict.keys())\n",
    "for a in l:\n",
    "    cont_sqzd+=[(a[0],a[1],a[2], 1-np.exp(-beta*cont_sqzd_dict[a]))]\n",
    "    #cont_sqzd+=[(a[1],a[0],a[2], 1-np.exp(-beta*cont_sqzd_dict[a]))]  #add if contacts are not already symmetrized\n",
    "    \n",
    "cont2_sqzd = pd.DataFrame(cont_sqzd,columns=['i', 'j', 't', 'lambda'])\n",
    "cont_sqzd_sorted=cont2_sqzd.sort_values(by=['t','i'],ascending=True)\n",
    "cont_sqzd_sorted.to_csv('cont_miniIsleWight_exp.csv', index=False) "
   ]
  },
  {
   "cell_type": "markdown",
   "metadata": {},
   "source": [
    "Save contacts weighted by their temporal duration"
   ]
  },
  {
   "cell_type": "code",
   "execution_count": 17,
   "metadata": {},
   "outputs": [],
   "source": [
    "cont_sqzd2=[]\n",
    "l=list(cont_sqzd_dict.keys())\n",
    "for a in l:\n",
    "    cont_sqzd2+=[(a[0],a[1],a[2], cont_sqzd_dict[a])]\n",
    "    #cont_sqzd2+=[(a[1],a[0],a[2], cont_sqzd_dict[a])]  #add if contacts are not already symmetrized\n",
    "cont2_sqzd2 = pd.DataFrame(cont_sqzd2,columns=['i', 'j', 't', 'lambda'])\n",
    "cont_sqzd2_sorted=cont2_sqzd2.sort_values(by=['t','i'],ascending=True)\n",
    "cont_sqzd2_sorted.to_csv('cont_miniIsleWight_lin.csv', index=False) "
   ]
  },
  {
   "cell_type": "markdown",
   "metadata": {},
   "source": [
    "#### Distribution of transmission coefficient values over the edges"
   ]
  },
  {
   "cell_type": "code",
   "execution_count": 18,
   "metadata": {},
   "outputs": [
    {
     "data": {
      "image/png": "[encoded data removed]",
      "text/plain": [
       "<Figure size 576x432 with 1 Axes>"
      ]
     },
     "metadata": {
      "needs_background": "light"
     },
     "output_type": "display_data"
    }
   ],
   "source": [
    "lamb=np.array([cont_sqzd[i][3] for i in range(len(cont_sqzd))])\n",
    "plt.figure(figsize=(8,6))\n",
    "plt.hist(lamb,bins=20)\n",
    "plt.axvline(lamb.mean(), color='k', linestyle='dashed', linewidth=1)\n",
    "min_ylim, max_ylim = plt.ylim()\n",
    "plt.text(lamb.mean()*1.1, max_ylim*0.9, 'Mean: {:.2f}'.format(lamb.mean()))\n",
    "plt.yscale('log')\n",
    "plt.xlabel('lambda')\n",
    "plt.ylabel('frequency')\n",
    "plt.show()"
   ]
  },
  {
   "cell_type": "markdown",
   "metadata": {},
   "source": [
    "#### Configurations mapped on $\\{S,I,R\\}$ states\n",
    "Here the exposed state is considered an infected one. "
   ]
  },
  {
   "cell_type": "code",
   "execution_count": 19,
   "metadata": {},
   "outputs": [],
   "source": [
    "status= {'susc': 0, 'expo': 0, 'ipre': 1, 'isym': 1, 'iasy': 1, 'resi': 2, 'dead': 2, 'hosp': 1}\n",
    "conf={}\n",
    "max_day=max_time//t_unit\n",
    "for day in range( max_day):\n",
    "    t=day*TO_HOURS\n",
    "    conf[day]=0*(is_state_at(results, 'susc', t)) + 1*(is_state_at(results, 'expo', t)+is_state_at(results, 'ipre', t)+is_state_at(results, 'iasy', t) \\\n",
    "                                                   +is_state_at(results, 'isym', t)+is_state_at(results, 'hosp', t))\\\n",
    "               + 2*(is_state_at(results, 'resi', t)+is_state_at(results, 'dead', t))\n",
    "    \n",
    "            \n",
    "conf_df=pd.DataFrame(conf)\n",
    "conf_df.to_csv('confs_IsleWight.csv')    "
   ]
  },
  {
   "cell_type": "markdown",
   "metadata": {},
   "source": [
    "#### Recovery time distribution"
   ]
  },
  {
   "cell_type": "code",
   "execution_count": 20,
   "metadata": {},
   "outputs": [],
   "source": [
    "traj={}\n",
    "for i in range(results.n_people[0]):\n",
    "    traj[i]=np.array([conf[day][i] for day in range(max_day)])"
   ]
  },
  {
   "cell_type": "code",
   "execution_count": 21,
   "metadata": {},
   "outputs": [],
   "source": [
    "t_IR={}\n",
    "for i in range(results.n_people[0]):\n",
    "    t_IR[i]=np.where(traj[i][:-1] != traj[i][1:])[0]"
   ]
  },
  {
   "cell_type": "code",
   "execution_count": 22,
   "metadata": {},
   "outputs": [
    {
     "data": {
      "image/png": "[encoded data removed]",
      "text/plain": [
       "<Figure size 576x432 with 1 Axes>"
      ]
     },
     "metadata": {
      "needs_background": "light"
     },
     "output_type": "display_data"
    }
   ],
   "source": [
    "plt.figure(figsize=(8,6))\n",
    "plt.hist([t_IR[i][1]-t_IR[i][0] for i in range(results.n_people[0]) if len(t_IR[i])==2],cumulative=False,density=False);\n",
    "plt.xlabel('days')\n",
    "plt.ylabel('number')\n",
    "plt.show()"
   ]
  },
  {
   "cell_type": "code",
   "execution_count": null,
   "metadata": {},
   "outputs": [],
   "source": []
  }
 ],
 "metadata": {
  "kernelspec": {
   "display_name": "Python 3",
   "language": "python",
   "name": "python3"
  },
  "language_info": {
   "codemirror_mode": {
    "name": "ipython",
    "version": 3
   },
   "file_extension": ".py",
   "mimetype": "text/x-python",
   "name": "python",
   "nbconvert_exporter": "python",
   "pygments_lexer": "ipython3",
   "version": "3.7.5"
  }
 },
 "nbformat": 4,
 "nbformat_minor": 4
}
