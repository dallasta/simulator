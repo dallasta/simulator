{
 "cells": [
  {
   "cell_type": "markdown",
   "metadata": {},
   "source": [
    "## Generate a single continuous-time simulation"
   ]
  },
  {
   "cell_type": "code",
   "execution_count": 2,
   "metadata": {},
   "outputs": [],
   "source": [
    "import numpy as np\n",
    "import math,pickle\n",
    "import pandas as pd\n",
    "import json\n",
    "import sys\n",
    "\n",
    "if '..' not in sys.path:\n",
    "    sys.path.append('..')\n",
    "\n",
    "from lib.mobilitysim_split import MobilitySimulator\n",
    "from lib.distrib import CovidDistributions\n",
    "from lib.slim_dynamics import *"
   ]
  },
  {
   "cell_type": "code",
   "execution_count": 4,
   "metadata": {},
   "outputs": [],
   "source": [
    "#duration of the simulation in hours\n",
    "max_time= 720 #in hours"
   ]
  },
  {
   "cell_type": "code",
   "execution_count": 68,
   "metadata": {},
   "outputs": [],
   "source": [
    "from lib.settings.town_settings_tubingen import *\n",
    "mob_settings = '../lib/mobility/Isle_of_Wight_settings_pop10_site10.pk'  \n",
    "save_path = \"../../../sibyl_team/sib_test/results/MTPP/istances\"\n",
    "\n",
    "# See town-generator.ipynb for an example on how to create the settings\n",
    "with open(mob_settings, 'rb') as fp:\n",
    "    obj = pickle.load(fp)\n",
    "    \n",
    "n_indiv=int(obj['num_people_unscaled']/obj['downsample_pop'])"
   ]
  },
  {
   "cell_type": "markdown",
   "metadata": {},
   "source": [
    "All necessary distributions with parameteres from recent literature are imported"
   ]
  },
  {
   "cell_type": "code",
   "execution_count": 6,
   "metadata": {},
   "outputs": [],
   "source": [
    "country = 'GBR'\n",
    "distributions = CovidDistributions(country=country)"
   ]
  },
  {
   "cell_type": "code",
   "execution_count": 7,
   "metadata": {},
   "outputs": [],
   "source": [
    "beta = 1.0 # this parameter enters in the conditional intensity during contacts \n",
    "\n",
    "#possibly different values of beta can be defined or inferred (see calibrate.py)\n",
    "intensity_params = {\n",
    "    'betas' : {\n",
    "        'education': beta,\n",
    "        'social': beta,\n",
    "        'bus_stop': beta,\n",
    "        'office': beta,\n",
    "        'supermarket': beta}, \n",
    "    'beta_household' : beta\n",
    "}"
   ]
  },
  {
   "cell_type": "markdown",
   "metadata": {},
   "source": [
    "Set the initial seed of numpy "
   ]
  },
  {
   "cell_type": "code",
   "execution_count": 8,
   "metadata": {},
   "outputs": [],
   "source": [
    "# Choose random seed\n",
    "c = 0\n",
    "np.random.seed(c)\n",
    "# Define prefix string used to save plots\n",
    "runstr = f'run{c}_'"
   ]
  },
  {
   "cell_type": "markdown",
   "metadata": {},
   "source": [
    "Set initial seeds of infection"
   ]
  },
  {
   "cell_type": "code",
   "execution_count": 9,
   "metadata": {},
   "outputs": [
    {
     "data": {
      "text/plain": [
       "{'expo': [10989, 45, 10761, 9470, 7362, 3824, 11689, 6343, 6550, 5034],\n",
       " 'isym': [9751, 1334, 13389, 13722, 13924, 8108, 874, 4608, 13246, 2839],\n",
       " 'iasy': [663, 9992, 6349, 1060, 4777, 13417, 11577, 1872, 6713, 9155]}"
      ]
     },
     "execution_count": 9,
     "metadata": {},
     "output_type": "execute_result"
    }
   ],
   "source": [
    "initial_counts = {'expo': 10, 'isym': 10, 'iasy': 10} #in the form {'expo': 7, 'isym_posi': 2, 'iasy': 2}\n",
    "initial_seeds=get_seeds(n_indiv, initial_counts)\n",
    "initial_seeds"
   ]
  },
  {
   "cell_type": "markdown",
   "metadata": {},
   "source": [
    "Run the epidemic simulation"
   ]
  },
  {
   "cell_type": "code",
   "execution_count": 12,
   "metadata": {},
   "outputs": [
    {
     "name": "stdout",
     "output_type": "stream",
     "text": [
      "t: 720 | 720 hrs (30 d)\n",
      "[Reached max time: 720h (30d)]\n"
     ]
    }
   ],
   "source": [
    "results = run(mob_settings, intensity_params, distributions, max_time, initial_seeds)"
   ]
  },
  {
   "cell_type": "markdown",
   "metadata": {},
   "source": [
    "Plot aggregate results"
   ]
  },
  {
   "cell_type": "code",
   "execution_count": 13,
   "metadata": {},
   "outputs": [
    {
     "data": {
      "image/png": "[encoded data removed]",
      "text/plain": [
       "<Figure size 576x432 with 1 Axes>"
      ]
     },
     "metadata": {
      "needs_background": "light"
     },
     "output_type": "display_data"
    }
   ],
   "source": [
    "import matplotlib.pyplot as plt\n",
    "%matplotlib inline\n",
    "plt.figure(figsize=(8,6))\n",
    "states=['expo','ipre','iasy','isym','hosp']\n",
    "ts, val = comp_state_over_time(results, states)\n",
    "plt.plot(ts, val, c='b', linestyle='-',label='all infected')\n",
    "states=['resi','dead']\n",
    "ts, val = comp_state_over_time(results, states)\n",
    "plt.plot(ts, val, c='r', linestyle='-',label='all recovered')\n",
    "plt.xlabel('days',fontsize=16)\n",
    "plt.xticks(fontsize=14)\n",
    "plt.yticks(fontsize=14)\n",
    "plt.legend(fontsize=18)\n",
    "plt.yscale( \"log\")\n",
    "plt.show()"
   ]
  },
  {
   "cell_type": "markdown",
   "metadata": {},
   "source": [
    "#### Extract temporal pairwise contacts (co-occurrencies in sites) with time coordinates and duration"
   ]
  },
  {
   "cell_type": "code",
   "execution_count": 71,
   "metadata": {},
   "outputs": [],
   "source": [
    "cont=[]\n",
    "for i in results.mob.contacts:\n",
    "    for j in results.mob.contacts[i]:\n",
    "        for h in results.mob.contacts[i][j]:\n",
    "            cont.append((h.indiv_i,h.indiv_j,h.t_from, h.t_to, h.t_to-h.t_from))\n",
    "            \n",
    "contact_raw= pd.DataFrame(data=cont, columns=['indiv_i', 'indiv_j', 't_from', 't_to', 'deltat'])\n",
    "\n",
    "contact_raw.to_csv('contacts_IsleWight.csv', index=True) "
   ]
  },
  {
   "cell_type": "markdown",
   "metadata": {},
   "source": [
    "#### Generate coarse-grained temporal contact network"
   ]
  },
  {
   "cell_type": "markdown",
   "metadata": {},
   "source": [
    "Keep only contacts lasting more than $t_{res}$ (now set to 15 min) and coarse-grain them into daily contacts"
   ]
  },
  {
   "cell_type": "code",
   "execution_count": 72,
   "metadata": {},
   "outputs": [
    {
     "data": {
      "text/html": [
       "<div>\n",
       "<style scoped>\n",
       "    .dataframe tbody tr th:only-of-type {\n",
       "        vertical-align: middle;\n",
       "    }\n",
       "\n",
       "    .dataframe tbody tr th {\n",
       "        vertical-align: top;\n",
       "    }\n",
       "\n",
       "    .dataframe thead th {\n",
       "        text-align: right;\n",
       "    }\n",
       "</style>\n",
       "<table border=\"1\" class=\"dataframe\">\n",
       "  <thead>\n",
       "    <tr style=\"text-align: right;\">\n",
       "      <th></th>\n",
       "      <th>indiv_i</th>\n",
       "      <th>indiv_j</th>\n",
       "      <th>t_from</th>\n",
       "      <th>t_to</th>\n",
       "      <th>deltat</th>\n",
       "    </tr>\n",
       "  </thead>\n",
       "  <tbody>\n",
       "    <tr>\n",
       "      <th>0</th>\n",
       "      <td>0</td>\n",
       "      <td>5291</td>\n",
       "      <td>517.611338</td>\n",
       "      <td>517.891495</td>\n",
       "      <td>0.280157</td>\n",
       "    </tr>\n",
       "    <tr>\n",
       "      <th>1</th>\n",
       "      <td>0</td>\n",
       "      <td>7006</td>\n",
       "      <td>517.611338</td>\n",
       "      <td>517.891495</td>\n",
       "      <td>0.280157</td>\n",
       "    </tr>\n",
       "    <tr>\n",
       "      <th>2</th>\n",
       "      <td>0</td>\n",
       "      <td>8191</td>\n",
       "      <td>517.611338</td>\n",
       "      <td>517.891495</td>\n",
       "      <td>0.280157</td>\n",
       "    </tr>\n",
       "    <tr>\n",
       "      <th>3</th>\n",
       "      <td>0</td>\n",
       "      <td>8207</td>\n",
       "      <td>517.611338</td>\n",
       "      <td>517.891495</td>\n",
       "      <td>0.280157</td>\n",
       "    </tr>\n",
       "    <tr>\n",
       "      <th>4</th>\n",
       "      <td>0</td>\n",
       "      <td>10592</td>\n",
       "      <td>517.611338</td>\n",
       "      <td>517.891495</td>\n",
       "      <td>0.280157</td>\n",
       "    </tr>\n",
       "    <tr>\n",
       "      <th>...</th>\n",
       "      <td>...</td>\n",
       "      <td>...</td>\n",
       "      <td>...</td>\n",
       "      <td>...</td>\n",
       "      <td>...</td>\n",
       "    </tr>\n",
       "    <tr>\n",
       "      <th>4560699</th>\n",
       "      <td>14193</td>\n",
       "      <td>12609</td>\n",
       "      <td>617.289899</td>\n",
       "      <td>618.476971</td>\n",
       "      <td>1.187072</td>\n",
       "    </tr>\n",
       "    <tr>\n",
       "      <th>4560700</th>\n",
       "      <td>14193</td>\n",
       "      <td>12704</td>\n",
       "      <td>621.001003</td>\n",
       "      <td>621.369080</td>\n",
       "      <td>0.368077</td>\n",
       "    </tr>\n",
       "    <tr>\n",
       "      <th>4560701</th>\n",
       "      <td>14193</td>\n",
       "      <td>13030</td>\n",
       "      <td>621.116789</td>\n",
       "      <td>623.842087</td>\n",
       "      <td>2.725298</td>\n",
       "    </tr>\n",
       "    <tr>\n",
       "      <th>4560702</th>\n",
       "      <td>14193</td>\n",
       "      <td>13137</td>\n",
       "      <td>617.154921</td>\n",
       "      <td>618.793909</td>\n",
       "      <td>1.638988</td>\n",
       "    </tr>\n",
       "    <tr>\n",
       "      <th>4560703</th>\n",
       "      <td>14193</td>\n",
       "      <td>13721</td>\n",
       "      <td>619.025033</td>\n",
       "      <td>620.174235</td>\n",
       "      <td>1.149202</td>\n",
       "    </tr>\n",
       "  </tbody>\n",
       "</table>\n",
       "<p>4560704 rows × 5 columns</p>\n",
       "</div>"
      ],
      "text/plain": [
       "         indiv_i  indiv_j      t_from        t_to    deltat\n",
       "0              0     5291  517.611338  517.891495  0.280157\n",
       "1              0     7006  517.611338  517.891495  0.280157\n",
       "2              0     8191  517.611338  517.891495  0.280157\n",
       "3              0     8207  517.611338  517.891495  0.280157\n",
       "4              0    10592  517.611338  517.891495  0.280157\n",
       "...          ...      ...         ...         ...       ...\n",
       "4560699    14193    12609  617.289899  618.476971  1.187072\n",
       "4560700    14193    12704  621.001003  621.369080  0.368077\n",
       "4560701    14193    13030  621.116789  623.842087  2.725298\n",
       "4560702    14193    13137  617.154921  618.793909  1.638988\n",
       "4560703    14193    13721  619.025033  620.174235  1.149202\n",
       "\n",
       "[4560704 rows x 5 columns]"
      ]
     },
     "execution_count": 72,
     "metadata": {},
     "output_type": "execute_result"
    }
   ],
   "source": [
    "t_res=0.25\n",
    "contact_raw2=contact_raw[contact_raw['deltat']>t_res]\n",
    "contact_raw2=contact_raw2.reset_index()\n",
    "contact_raw2.drop(columns=['index'],inplace=True)\n",
    "contact_raw2"
   ]
  },
  {
   "cell_type": "code",
   "execution_count": 73,
   "metadata": {},
   "outputs": [
    {
     "name": "stdout",
     "output_type": "stream",
     "text": [
      "[  0.  24.  48.  72.  96. 120. 144. 168. 192. 216. 240. 264. 288. 312.\n",
      " 336. 360. 384. 408. 432. 456. 480. 504. 528. 552. 576. 600. 624. 648.\n",
      " 672. 696. 720.]\n"
     ]
    }
   ],
   "source": [
    "t_unit = 24\n",
    "period = np.arange(0,max_time+t_unit,t_unit*1.0)\n",
    "print(period)"
   ]
  },
  {
   "cell_type": "code",
   "execution_count": 74,
   "metadata": {},
   "outputs": [],
   "source": [
    "n_contacts=len(contact_raw2)\n",
    "indiv_i=contact_raw2.indiv_i.to_numpy()\n",
    "indiv_j=contact_raw2.indiv_j.to_numpy()\n",
    "t_from=contact_raw2.t_from.to_numpy()\n",
    "t_to=contact_raw2.t_to.to_numpy()\n",
    "dt=contact_raw2.deltat.to_numpy()    "
   ]
  },
  {
   "cell_type": "code",
   "execution_count": 75,
   "metadata": {},
   "outputs": [],
   "source": [
    "cont_sqzd_dict={}\n",
    "for i in range(n_contacts):\n",
    "    mlen=int(dt[i]//t_unit)\n",
    "    for s in range(mlen+1):\n",
    "        a=(indiv_i[i],indiv_j[i],int(t_from[i])//t_unit +s)\n",
    "        if a in cont_sqzd_dict:\n",
    "            cont_sqzd_dict[a]+=(1 if s<mlen else (dt[i]/t_unit - mlen))           \n",
    "        else:\n",
    "            cont_sqzd_dict[a]=(1 if s<mlen else (dt[i]/t_unit - mlen))"
   ]
  },
  {
   "cell_type": "markdown",
   "metadata": {},
   "source": [
    "Save contacts with individual-based daily transmission coefficients based on duration and intensity parameter $\\beta$"
   ]
  },
  {
   "cell_type": "code",
   "execution_count": 77,
   "metadata": {},
   "outputs": [],
   "source": [
    "cont_sqzd=[]\n",
    "l=list(cont_sqzd_dict.keys())\n",
    "for a in l:\n",
    "    cont_sqzd+=[(a[0],a[1],a[2], 1-np.exp(-beta*cont_sqzd_dict[a]))]\n",
    "    #cont_sqzd+=[(a[1],a[0],a[2], 1-np.exp(-beta*cont_sqzd_dict[a]))]  #add if contacts are not already symmetrized\n",
    "    \n",
    "cont2_sqzd = pd.DataFrame(cont_sqzd,columns=['i', 'j', 't', 'lambda'])\n",
    "cont_sqzd_sorted=cont2_sqzd.sort_values(by=['t','i'],ascending=True)\n",
    "cont_sqzd_sorted.to_csv('cont_miniIsleWight_exp.csv', index=False) "
   ]
  },
  {
   "cell_type": "markdown",
   "metadata": {},
   "source": [
    "Save contacts weighted by their temporal duration"
   ]
  },
  {
   "cell_type": "code",
   "execution_count": 78,
   "metadata": {},
   "outputs": [],
   "source": [
    "cont_sqzd2=[]\n",
    "l=list(cont_sqzd_dict.keys())\n",
    "for a in l:\n",
    "    cont_sqzd2+=[(a[0],a[1],a[2], cont_sqzd_dict[a])]\n",
    "    #cont_sqzd2+=[(a[1],a[0],a[2], cont_sqzd_dict[a])]  #add if contacts are not already symmetrized\n",
    "cont2_sqzd2 = pd.DataFrame(cont_sqzd2,columns=['i', 'j', 't', 'lambda'])\n",
    "cont_sqzd2_sorted=cont2_sqzd2.sort_values(by=['t','i'],ascending=True)\n",
    "cont_sqzd2_sorted.to_csv('cont_miniIsleWight_lin.csv', index=False) "
   ]
  },
  {
   "cell_type": "markdown",
   "metadata": {},
   "source": [
    "#### Distribution of transmission coefficient values over the edges"
   ]
  },
  {
   "cell_type": "code",
   "execution_count": 79,
   "metadata": {},
   "outputs": [
    {
     "data": {
      "image/png": "[encoded data removed]",
      "text/plain": [
       "<Figure size 576x432 with 1 Axes>"
      ]
     },
     "metadata": {
      "needs_background": "light"
     },
     "output_type": "display_data"
    }
   ],
   "source": [
    "lamb=np.array([cont_sqzd[i][3] for i in range(len(cont_sqzd))])\n",
    "plt.figure(figsize=(8,6))\n",
    "plt.hist(lamb,bins=20)\n",
    "plt.axvline(lamb.mean(), color='k', linestyle='dashed', linewidth=1)\n",
    "min_ylim, max_ylim = plt.ylim()\n",
    "plt.text(lamb.mean()*1.1, max_ylim*0.9, 'Mean: {:.2f}'.format(lamb.mean()))\n",
    "plt.yscale('log')\n",
    "plt.xlabel('lambda')\n",
    "plt.ylabel('frequency')\n",
    "plt.show()"
   ]
  },
  {
   "cell_type": "markdown",
   "metadata": {},
   "source": [
    "#### Configurations mapped on $\\{S,I,R\\}$ states\n",
    "Here the exposed state is considered an infected one. "
   ]
  },
  {
   "cell_type": "code",
   "execution_count": 80,
   "metadata": {},
   "outputs": [],
   "source": [
    "#status= {'susc': 0, 'expo': 0, 'ipre': 1, 'isym': 1, 'iasy': 1, 'resi': 2, 'dead': 2, 'hosp': 1}\n",
    "N = results.n_people[0]\n",
    "status = {'susc': 0, 'expo': 10, 'ipre': 11, 'isym': 12, 'iasy': 13, 'resi': 20, 'dead': 21, 'hosp': 19}\n",
    "max_day=max_time//t_unit\n",
    "conf=np.zeros((max_day,N),dtype = int)\n",
    "\n",
    "for day in range(max_day):\n",
    "    t=day*TO_HOURS\n",
    "    conf[day,:] = np.sum(np.stack([status[k]*is_state_at(results,k,t) for k in status.keys()]),axis = 0)\n",
    "            \n",
    "conf_df=pd.DataFrame(conf)\n",
    "conf_df.to_csv('confs_IsleWight.csv')\n",
    "\n",
    "\n",
    "with open('status_legend.json', 'w') as fp:\n",
    "    json.dump(status, fp)"
   ]
  },
  {
   "cell_type": "markdown",
   "metadata": {},
   "source": [
    "#### Recovery time distribution"
   ]
  },
  {
   "cell_type": "code",
   "execution_count": null,
   "metadata": {},
   "outputs": [],
   "source": [
    "traj={}\n",
    "for i in range(results.n_people[0]):\n",
    "    traj[i]=np.array([conf[day][i] for day in range(max_day)])"
   ]
  },
  {
   "cell_type": "code",
   "execution_count": null,
   "metadata": {},
   "outputs": [],
   "source": [
    "t_IR={}\n",
    "for i in range(results.n_people[0]):\n",
    "    t_IR[i]=np.where(traj[i][:-1] != traj[i][1:])[0]"
   ]
  },
  {
   "cell_type": "code",
   "execution_count": null,
   "metadata": {},
   "outputs": [],
   "source": [
    "plt.figure(figsize=(8,6))\n",
    "plt.hist([t_IR[i][1]-t_IR[i][0] for i in range(results.n_people[0]) if len(t_IR[i])==2],cumulative=False,density=False);\n",
    "plt.xlabel('days')\n",
    "plt.ylabel('number')\n",
    "plt.show()"
   ]
  },
  {
   "cell_type": "code",
   "execution_count": null,
   "metadata": {},
   "outputs": [],
   "source": []
  }
 ],
 "metadata": {
  "kernelspec": {
   "display_name": "Python 3",
   "language": "python",
   "name": "python3"
  },
  "language_info": {
   "codemirror_mode": {
    "name": "ipython",
    "version": 3
   },
   "file_extension": ".py",
   "mimetype": "text/x-python",
   "name": "python",
   "nbconvert_exporter": "python",
   "pygments_lexer": "ipython3",
   "version": "3.7.6"
  }
 },
 "nbformat": 4,
 "nbformat_minor": 4
}
