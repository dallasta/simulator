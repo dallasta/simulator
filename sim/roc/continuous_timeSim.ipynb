{
 "cells": [
  {
   "cell_type": "code",
   "execution_count": 10,
   "metadata": {},
   "outputs": [],
   "source": [
    "import numpy as np\n",
    "import math,pickle\n",
    "import pandas as pd"
   ]
  },
  {
   "cell_type": "code",
   "execution_count": 11,
   "metadata": {},
   "outputs": [],
   "source": [
    "import sys\n",
    "if '..' not in sys.path:\n",
    "    sys.path.append('..')\n",
    "\n",
    "from lib.mobilitysim_split import MobilitySimulator\n",
    "from lib.distributions import CovidDistributions\n",
    "\n",
    "\n",
    "# converting days to hours\n",
    "TO_HOURS = 24.0\n",
    "\n",
    "from lib.slim_dynamics import *"
   ]
  },
  {
   "cell_type": "code",
   "execution_count": 12,
   "metadata": {},
   "outputs": [],
   "source": [
    "# Choose random seed\n",
    "c = 0\n",
    "# Set it\n",
    "np.random.seed(c)\n",
    "# Define prefix string used to save plots\n",
    "runstr = f'run{c}_'"
   ]
  },
  {
   "cell_type": "code",
   "execution_count": 13,
   "metadata": {},
   "outputs": [],
   "source": [
    "max_time= 720 #in hours"
   ]
  },
  {
   "cell_type": "code",
   "execution_count": 14,
   "metadata": {},
   "outputs": [],
   "source": [
    "from lib.settings.town_settings_tubingen import *\n",
    "mob_settings = '../lib/mobility/Tubingen_settings_pop10_site10.pk'  \n",
    "area = 'TU'\n",
    "country = 'GER'\n",
    "\n",
    "# See town-generator.ipynb for an example on how to create the settings\n",
    "with open(mob_settings, 'rb') as fp:\n",
    "    obj = pickle.load(fp)\n",
    "    \n",
    "n_indiv=int(obj['num_people_unscaled']/obj['downsample_pop'])"
   ]
  },
  {
   "cell_type": "markdown",
   "metadata": {},
   "source": [
    "All necessary distributions with parameteres from recent literature are imported"
   ]
  },
  {
   "cell_type": "code",
   "execution_count": 15,
   "metadata": {},
   "outputs": [],
   "source": [
    "distributions = CovidDistributions(country=country)"
   ]
  },
  {
   "cell_type": "code",
   "execution_count": 16,
   "metadata": {},
   "outputs": [],
   "source": [
    "beta = 0.8 # this parameter enters in the conditional intensity during contacts \n",
    "\n",
    "#possibly different values of beta can be defined or inferred (see calibrate.py)\n",
    "intensity_params = {\n",
    "    'betas' : {\n",
    "        'education': beta,\n",
    "        'social': beta,\n",
    "        'bus_stop': beta,\n",
    "        'office': beta,\n",
    "        'supermarket': beta}, \n",
    "    'beta_household' : beta\n",
    "}"
   ]
  },
  {
   "cell_type": "code",
   "execution_count": 17,
   "metadata": {},
   "outputs": [
    {
     "data": {
      "text/plain": [
       "{'expo': [1220, 2092, 6550, 489, 1570],\n",
       " 'isym': [2655, 4422, 2658],\n",
       " 'iasy': [2652, 4771, 6814]}"
      ]
     },
     "execution_count": 17,
     "metadata": {},
     "output_type": "execute_result"
    }
   ],
   "source": [
    "initial_counts = {'expo': 5, 'isym': 3, 'iasy': 3} #in the form {'expo': 7, 'isym_posi': 2, 'iasy': 2}\n",
    "initial_seeds=get_seeds(n_indiv, initial_counts)\n",
    "initial_seeds"
   ]
  },
  {
   "cell_type": "code",
   "execution_count": 18,
   "metadata": {},
   "outputs": [
    {
     "name": "stdout",
     "output_type": "stream",
     "text": [
      "t: 720.00 | 720.00 hrs (30 d)\n",
      "[Reached max time: 720h (30d)]\n"
     ]
    }
   ],
   "source": [
    "results = run(mob_settings, intensity_params, distributions, max_time, initial_seeds)"
   ]
  },
  {
   "cell_type": "code",
   "execution_count": 19,
   "metadata": {},
   "outputs": [],
   "source": [
    "def is_state_at(sim, state, t):\n",
    "    \n",
    "    return (sim.state_started_at[state] <= t) & (sim.state_ended_at[state] > t)\n",
    "\n",
    "\n",
    "\n",
    "def comp_state_over_time(sim, states):\n",
    "    '''\n",
    "    Computes `state` variable over time [0, self.max_time] with given accuracy `acc\n",
    "    '''\n",
    "    ts, val = [], []\n",
    "    for t in np.linspace(0.0, sim.max_time, num=sim.max_time, endpoint=True):\n",
    "        ts.append(t/24)\n",
    "        val.append(sum([np.sum(is_state_at(sim, s, t)) for s in states]))\n",
    "    return np.array(ts), np.array(val)\n"
   ]
  },
  {
   "cell_type": "code",
   "execution_count": 20,
   "metadata": {},
   "outputs": [
    {
     "data": {
      "image/png": "[encoded data removed]",
      "text/plain": [
       "<Figure size 576x432 with 1 Axes>"
      ]
     },
     "metadata": {
      "needs_background": "light"
     },
     "output_type": "display_data"
    }
   ],
   "source": [
    "import matplotlib.pyplot as plt\n",
    "%matplotlib inline\n",
    "plt.figure(figsize=(8,6))\n",
    "states=['expo','ipre','iasy','isym','hosp']\n",
    "ts, val = comp_state_over_time(results, states)\n",
    "plt.plot(ts, val, c='b', linestyle='-',label='all infected')\n",
    "states=['resi','dead']\n",
    "ts, val = comp_state_over_time(results, states)\n",
    "plt.plot(ts, val, c='r', linestyle='-',label='all recovered')\n",
    "plt.xlabel('days',fontsize=16)\n",
    "plt.xticks(fontsize=14)\n",
    "plt.yticks(fontsize=14)\n",
    "plt.legend(fontsize=18)\n",
    "plt.show()"
   ]
  },
  {
   "cell_type": "code",
   "execution_count": 21,
   "metadata": {},
   "outputs": [],
   "source": [
    "status= {'susc': 0, 'expo': 1, 'ipre': 1, 'isym': 1, 'iasy': 1, 'resi': 2, 'dead': 2, 'hosp': 1}\n",
    "max_day=max_time//24\n",
    "conf={}\n",
    "for t in range(max_day):\n",
    "    conf[t]=0*results.snapshots[t]['susc'][:] + 1*(results.snapshots[t]['expo'][:]+results.snapshots[t]['ipre'][:] \\\n",
    "                                                   +results.snapshots[t]['isym'][:]+results.snapshots[t]['iasy'][:] \\\n",
    "                                                   +results.snapshots[t]['hosp'][:]) \\\n",
    "            + 2*(results.snapshots[t]['resi'][:]+results.snapshots[t]['dead'][:])\n",
    "\n",
    "conf_df=pd.DataFrame(conf)\n",
    "conf_df.to_csv('confs_Tubingen.csv')    "
   ]
  },
  {
   "cell_type": "code",
   "execution_count": 22,
   "metadata": {},
   "outputs": [],
   "source": [
    "cont=[]\n",
    "for i in results.mob.contacts:\n",
    "    for j in results.mob.contacts[i]:\n",
    "        for h in results.mob.contacts[i][j]:\n",
    "            cont.append((h.indiv_i,h.indiv_j,h.t_from, h.t_to, h.t_to-h.t_from))"
   ]
  },
  {
   "cell_type": "code",
   "execution_count": 23,
   "metadata": {},
   "outputs": [],
   "source": [
    "contact_raw= pd.DataFrame(data=cont, columns=['indiv_i', 'indiv_j', 't_from', 't_to', 'deltat'])"
   ]
  },
  {
   "cell_type": "code",
   "execution_count": 24,
   "metadata": {},
   "outputs": [],
   "source": [
    "contact_raw.to_csv('contacts_Tubingen.csv', index=True) "
   ]
  },
  {
   "cell_type": "code",
   "execution_count": 25,
   "metadata": {},
   "outputs": [
    {
     "data": {
      "text/html": [
       "<div>\n",
       "<style scoped>\n",
       "    .dataframe tbody tr th:only-of-type {\n",
       "        vertical-align: middle;\n",
       "    }\n",
       "\n",
       "    .dataframe tbody tr th {\n",
       "        vertical-align: top;\n",
       "    }\n",
       "\n",
       "    .dataframe thead th {\n",
       "        text-align: right;\n",
       "    }\n",
       "</style>\n",
       "<table border=\"1\" class=\"dataframe\">\n",
       "  <thead>\n",
       "    <tr style=\"text-align: right;\">\n",
       "      <th></th>\n",
       "      <th>indiv_i</th>\n",
       "      <th>indiv_j</th>\n",
       "      <th>t_from</th>\n",
       "      <th>t_to</th>\n",
       "      <th>deltat</th>\n",
       "    </tr>\n",
       "  </thead>\n",
       "  <tbody>\n",
       "    <tr>\n",
       "      <th>0</th>\n",
       "      <td>0</td>\n",
       "      <td>597</td>\n",
       "      <td>171.935842</td>\n",
       "      <td>172.105573</td>\n",
       "      <td>0.169731</td>\n",
       "    </tr>\n",
       "    <tr>\n",
       "      <th>1</th>\n",
       "      <td>0</td>\n",
       "      <td>2430</td>\n",
       "      <td>171.935842</td>\n",
       "      <td>172.142783</td>\n",
       "      <td>0.206941</td>\n",
       "    </tr>\n",
       "    <tr>\n",
       "      <th>2</th>\n",
       "      <td>0</td>\n",
       "      <td>3083</td>\n",
       "      <td>171.939103</td>\n",
       "      <td>172.142783</td>\n",
       "      <td>0.203680</td>\n",
       "    </tr>\n",
       "    <tr>\n",
       "      <th>3</th>\n",
       "      <td>0</td>\n",
       "      <td>3495</td>\n",
       "      <td>171.935842</td>\n",
       "      <td>172.142783</td>\n",
       "      <td>0.206941</td>\n",
       "    </tr>\n",
       "    <tr>\n",
       "      <th>4</th>\n",
       "      <td>0</td>\n",
       "      <td>3974</td>\n",
       "      <td>171.935842</td>\n",
       "      <td>172.029252</td>\n",
       "      <td>0.093410</td>\n",
       "    </tr>\n",
       "    <tr>\n",
       "      <th>...</th>\n",
       "      <td>...</td>\n",
       "      <td>...</td>\n",
       "      <td>...</td>\n",
       "      <td>...</td>\n",
       "      <td>...</td>\n",
       "    </tr>\n",
       "    <tr>\n",
       "      <th>3510145</th>\n",
       "      <td>9053</td>\n",
       "      <td>5140</td>\n",
       "      <td>149.224441</td>\n",
       "      <td>149.402139</td>\n",
       "      <td>0.177699</td>\n",
       "    </tr>\n",
       "    <tr>\n",
       "      <th>3510146</th>\n",
       "      <td>9053</td>\n",
       "      <td>5190</td>\n",
       "      <td>149.212259</td>\n",
       "      <td>149.266793</td>\n",
       "      <td>0.054534</td>\n",
       "    </tr>\n",
       "    <tr>\n",
       "      <th>3510147</th>\n",
       "      <td>9053</td>\n",
       "      <td>5278</td>\n",
       "      <td>149.212259</td>\n",
       "      <td>149.402139</td>\n",
       "      <td>0.189880</td>\n",
       "    </tr>\n",
       "    <tr>\n",
       "      <th>3510148</th>\n",
       "      <td>9053</td>\n",
       "      <td>6811</td>\n",
       "      <td>149.212259</td>\n",
       "      <td>149.402139</td>\n",
       "      <td>0.189880</td>\n",
       "    </tr>\n",
       "    <tr>\n",
       "      <th>3510149</th>\n",
       "      <td>9053</td>\n",
       "      <td>8478</td>\n",
       "      <td>149.212259</td>\n",
       "      <td>149.402139</td>\n",
       "      <td>0.189880</td>\n",
       "    </tr>\n",
       "  </tbody>\n",
       "</table>\n",
       "<p>3510150 rows × 5 columns</p>\n",
       "</div>"
      ],
      "text/plain": [
       "         indiv_i  indiv_j      t_from        t_to    deltat\n",
       "0              0      597  171.935842  172.105573  0.169731\n",
       "1              0     2430  171.935842  172.142783  0.206941\n",
       "2              0     3083  171.939103  172.142783  0.203680\n",
       "3              0     3495  171.935842  172.142783  0.206941\n",
       "4              0     3974  171.935842  172.029252  0.093410\n",
       "...          ...      ...         ...         ...       ...\n",
       "3510145     9053     5140  149.224441  149.402139  0.177699\n",
       "3510146     9053     5190  149.212259  149.266793  0.054534\n",
       "3510147     9053     5278  149.212259  149.402139  0.189880\n",
       "3510148     9053     6811  149.212259  149.402139  0.189880\n",
       "3510149     9053     8478  149.212259  149.402139  0.189880\n",
       "\n",
       "[3510150 rows x 5 columns]"
      ]
     },
     "execution_count": 25,
     "metadata": {},
     "output_type": "execute_result"
    }
   ],
   "source": [
    "contact_raw"
   ]
  },
  {
   "cell_type": "code",
   "execution_count": 26,
   "metadata": {},
   "outputs": [
    {
     "data": {
      "text/html": [
       "<div>\n",
       "<style scoped>\n",
       "    .dataframe tbody tr th:only-of-type {\n",
       "        vertical-align: middle;\n",
       "    }\n",
       "\n",
       "    .dataframe tbody tr th {\n",
       "        vertical-align: top;\n",
       "    }\n",
       "\n",
       "    .dataframe thead th {\n",
       "        text-align: right;\n",
       "    }\n",
       "</style>\n",
       "<table border=\"1\" class=\"dataframe\">\n",
       "  <thead>\n",
       "    <tr style=\"text-align: right;\">\n",
       "      <th></th>\n",
       "      <th>indiv_i</th>\n",
       "      <th>indiv_j</th>\n",
       "      <th>t_from</th>\n",
       "      <th>t_to</th>\n",
       "      <th>deltat</th>\n",
       "    </tr>\n",
       "  </thead>\n",
       "  <tbody>\n",
       "    <tr>\n",
       "      <th>0</th>\n",
       "      <td>0</td>\n",
       "      <td>17</td>\n",
       "      <td>294.320705</td>\n",
       "      <td>295.562099</td>\n",
       "      <td>1.241394</td>\n",
       "    </tr>\n",
       "    <tr>\n",
       "      <th>1</th>\n",
       "      <td>0</td>\n",
       "      <td>209</td>\n",
       "      <td>74.228038</td>\n",
       "      <td>75.344297</td>\n",
       "      <td>1.116259</td>\n",
       "    </tr>\n",
       "    <tr>\n",
       "      <th>2</th>\n",
       "      <td>0</td>\n",
       "      <td>387</td>\n",
       "      <td>132.438909</td>\n",
       "      <td>134.285618</td>\n",
       "      <td>1.846709</td>\n",
       "    </tr>\n",
       "    <tr>\n",
       "      <th>3</th>\n",
       "      <td>0</td>\n",
       "      <td>388</td>\n",
       "      <td>73.498460</td>\n",
       "      <td>75.344297</td>\n",
       "      <td>1.845838</td>\n",
       "    </tr>\n",
       "    <tr>\n",
       "      <th>4</th>\n",
       "      <td>0</td>\n",
       "      <td>465</td>\n",
       "      <td>294.422407</td>\n",
       "      <td>295.562099</td>\n",
       "      <td>1.139691</td>\n",
       "    </tr>\n",
       "    <tr>\n",
       "      <th>...</th>\n",
       "      <td>...</td>\n",
       "      <td>...</td>\n",
       "      <td>...</td>\n",
       "      <td>...</td>\n",
       "      <td>...</td>\n",
       "    </tr>\n",
       "    <tr>\n",
       "      <th>2318077</th>\n",
       "      <td>9053</td>\n",
       "      <td>6916</td>\n",
       "      <td>327.855158</td>\n",
       "      <td>328.580144</td>\n",
       "      <td>0.724987</td>\n",
       "    </tr>\n",
       "    <tr>\n",
       "      <th>2318078</th>\n",
       "      <td>9053</td>\n",
       "      <td>7047</td>\n",
       "      <td>326.623392</td>\n",
       "      <td>327.587698</td>\n",
       "      <td>0.964306</td>\n",
       "    </tr>\n",
       "    <tr>\n",
       "      <th>2318079</th>\n",
       "      <td>9053</td>\n",
       "      <td>7384</td>\n",
       "      <td>327.435902</td>\n",
       "      <td>330.093194</td>\n",
       "      <td>2.657292</td>\n",
       "    </tr>\n",
       "    <tr>\n",
       "      <th>2318080</th>\n",
       "      <td>9053</td>\n",
       "      <td>7416</td>\n",
       "      <td>326.434779</td>\n",
       "      <td>327.217648</td>\n",
       "      <td>0.782869</td>\n",
       "    </tr>\n",
       "    <tr>\n",
       "      <th>2318081</th>\n",
       "      <td>9053</td>\n",
       "      <td>8607</td>\n",
       "      <td>328.493737</td>\n",
       "      <td>329.438464</td>\n",
       "      <td>0.944727</td>\n",
       "    </tr>\n",
       "  </tbody>\n",
       "</table>\n",
       "<p>2318082 rows × 5 columns</p>\n",
       "</div>"
      ],
      "text/plain": [
       "         indiv_i  indiv_j      t_from        t_to    deltat\n",
       "0              0       17  294.320705  295.562099  1.241394\n",
       "1              0      209   74.228038   75.344297  1.116259\n",
       "2              0      387  132.438909  134.285618  1.846709\n",
       "3              0      388   73.498460   75.344297  1.845838\n",
       "4              0      465  294.422407  295.562099  1.139691\n",
       "...          ...      ...         ...         ...       ...\n",
       "2318077     9053     6916  327.855158  328.580144  0.724987\n",
       "2318078     9053     7047  326.623392  327.587698  0.964306\n",
       "2318079     9053     7384  327.435902  330.093194  2.657292\n",
       "2318080     9053     7416  326.434779  327.217648  0.782869\n",
       "2318081     9053     8607  328.493737  329.438464  0.944727\n",
       "\n",
       "[2318082 rows x 5 columns]"
      ]
     },
     "execution_count": 26,
     "metadata": {},
     "output_type": "execute_result"
    }
   ],
   "source": [
    "#keep resolution of 15min\n",
    "contact_raw2=contact_raw[contact_raw['deltat']>0.25]\n",
    "contact_raw2=contact_raw2.reset_index()\n",
    "contact_raw2.drop(columns=['index'],inplace=True)\n",
    "contact_raw2"
   ]
  },
  {
   "cell_type": "code",
   "execution_count": 27,
   "metadata": {},
   "outputs": [
    {
     "name": "stdout",
     "output_type": "stream",
     "text": [
      "[  0.  24.  48.  72.  96. 120. 144. 168. 192. 216. 240. 264. 288. 312.\n",
      " 336. 360. 384. 408. 432. 456. 480. 504. 528. 552. 576. 600. 624. 648.\n",
      " 672. 696. 720.]\n"
     ]
    }
   ],
   "source": [
    "t_unit = 24\n",
    "period = np.arange(0,max_time+t_unit,t_unit*1.0)\n",
    "print(period)"
   ]
  },
  {
   "cell_type": "code",
   "execution_count": 28,
   "metadata": {},
   "outputs": [],
   "source": [
    "n_contacts=len(contact_raw2)\n",
    "indiv_i=contact_raw2.indiv_i.to_numpy()\n",
    "indiv_j=contact_raw2.indiv_j.to_numpy()\n",
    "t_from=contact_raw2.t_from.to_numpy()\n",
    "t_to=contact_raw2.t_to.to_numpy()\n",
    "dt=contact_raw2.deltat.to_numpy()    "
   ]
  },
  {
   "cell_type": "code",
   "execution_count": 29,
   "metadata": {},
   "outputs": [],
   "source": [
    "cont_sqzd_dict={}\n",
    "for i in range(n_contacts):\n",
    "    mlen=int(dt[i]//t_unit)\n",
    "    for s in range(mlen+1):\n",
    "        a=(indiv_i[i],indiv_j[i],int(t_from[i])//t_unit +s)\n",
    "        if a in cont_sqzd_dict:\n",
    "            cont_sqzd_dict[a]+=(1 if s<mlen else (dt[i]/t_unit - mlen))\n",
    "            \n",
    "        else:\n",
    "            cont_sqzd_dict[a]=(1 if s<mlen else (dt[i]/t_unit - mlen))"
   ]
  },
  {
   "cell_type": "code",
   "execution_count": 30,
   "metadata": {},
   "outputs": [],
   "source": [
    "cont_sqzd=[]\n",
    "l=list(cont_sqzd_dict.keys())\n",
    "for a in l:\n",
    "    cont_sqzd+=[(a[0],a[1],a[2], 1.0-np.exp(-beta*cont_sqzd_dict[a]))]\n",
    "    cont_sqzd+=[(a[1],a[0],a[2], 1.0-np.exp(-beta*cont_sqzd_dict[a]))]"
   ]
  },
  {
   "cell_type": "code",
   "execution_count": 31,
   "metadata": {},
   "outputs": [],
   "source": [
    "#cont_sqzdClean=set(cont_sqzd)\n",
    "cont2_sqzd = pd.DataFrame(cont_sqzd,columns=['i', 'j', 't', 'lambda'])"
   ]
  },
  {
   "cell_type": "code",
   "execution_count": 32,
   "metadata": {},
   "outputs": [],
   "source": [
    "cont_sqzd_sorted=cont2_sqzd.sort_values(by=['t','i'],ascending=True)"
   ]
  },
  {
   "cell_type": "code",
   "execution_count": 33,
   "metadata": {},
   "outputs": [],
   "source": [
    "cont_sqzd_sorted.to_csv('cont_miniTubingen.csv', index=False) "
   ]
  },
  {
   "cell_type": "code",
   "execution_count": 34,
   "metadata": {},
   "outputs": [
    {
     "data": {
      "text/html": [
       "<div>\n",
       "<style scoped>\n",
       "    .dataframe tbody tr th:only-of-type {\n",
       "        vertical-align: middle;\n",
       "    }\n",
       "\n",
       "    .dataframe tbody tr th {\n",
       "        vertical-align: top;\n",
       "    }\n",
       "\n",
       "    .dataframe thead th {\n",
       "        text-align: right;\n",
       "    }\n",
       "</style>\n",
       "<table border=\"1\" class=\"dataframe\">\n",
       "  <thead>\n",
       "    <tr style=\"text-align: right;\">\n",
       "      <th></th>\n",
       "      <th>i</th>\n",
       "      <th>j</th>\n",
       "      <th>t</th>\n",
       "      <th>lambda</th>\n",
       "    </tr>\n",
       "  </thead>\n",
       "  <tbody>\n",
       "    <tr>\n",
       "      <th>1954</th>\n",
       "      <td>4</td>\n",
       "      <td>753</td>\n",
       "      <td>0</td>\n",
       "      <td>0.036246</td>\n",
       "    </tr>\n",
       "    <tr>\n",
       "      <th>1960</th>\n",
       "      <td>4</td>\n",
       "      <td>778</td>\n",
       "      <td>0</td>\n",
       "      <td>0.045318</td>\n",
       "    </tr>\n",
       "    <tr>\n",
       "      <th>1962</th>\n",
       "      <td>4</td>\n",
       "      <td>1046</td>\n",
       "      <td>0</td>\n",
       "      <td>0.070546</td>\n",
       "    </tr>\n",
       "    <tr>\n",
       "      <th>1966</th>\n",
       "      <td>4</td>\n",
       "      <td>1186</td>\n",
       "      <td>0</td>\n",
       "      <td>0.038721</td>\n",
       "    </tr>\n",
       "    <tr>\n",
       "      <th>1976</th>\n",
       "      <td>4</td>\n",
       "      <td>1373</td>\n",
       "      <td>0</td>\n",
       "      <td>0.040586</td>\n",
       "    </tr>\n",
       "    <tr>\n",
       "      <th>...</th>\n",
       "      <td>...</td>\n",
       "      <td>...</td>\n",
       "      <td>...</td>\n",
       "      <td>...</td>\n",
       "    </tr>\n",
       "    <tr>\n",
       "      <th>3998775</th>\n",
       "      <td>9051</td>\n",
       "      <td>7946</td>\n",
       "      <td>29</td>\n",
       "      <td>0.037533</td>\n",
       "    </tr>\n",
       "    <tr>\n",
       "      <th>4550686</th>\n",
       "      <td>9051</td>\n",
       "      <td>3170</td>\n",
       "      <td>29</td>\n",
       "      <td>0.014778</td>\n",
       "    </tr>\n",
       "    <tr>\n",
       "      <th>4550748</th>\n",
       "      <td>9051</td>\n",
       "      <td>5307</td>\n",
       "      <td>29</td>\n",
       "      <td>0.024902</td>\n",
       "    </tr>\n",
       "    <tr>\n",
       "      <th>4550810</th>\n",
       "      <td>9051</td>\n",
       "      <td>7828</td>\n",
       "      <td>29</td>\n",
       "      <td>0.010573</td>\n",
       "    </tr>\n",
       "    <tr>\n",
       "      <th>4550820</th>\n",
       "      <td>9051</td>\n",
       "      <td>7946</td>\n",
       "      <td>29</td>\n",
       "      <td>0.037533</td>\n",
       "    </tr>\n",
       "  </tbody>\n",
       "</table>\n",
       "<p>4552272 rows × 4 columns</p>\n",
       "</div>"
      ],
      "text/plain": [
       "            i     j   t    lambda\n",
       "1954        4   753   0  0.036246\n",
       "1960        4   778   0  0.045318\n",
       "1962        4  1046   0  0.070546\n",
       "1966        4  1186   0  0.038721\n",
       "1976        4  1373   0  0.040586\n",
       "...       ...   ...  ..       ...\n",
       "3998775  9051  7946  29  0.037533\n",
       "4550686  9051  3170  29  0.014778\n",
       "4550748  9051  5307  29  0.024902\n",
       "4550810  9051  7828  29  0.010573\n",
       "4550820  9051  7946  29  0.037533\n",
       "\n",
       "[4552272 rows x 4 columns]"
      ]
     },
     "execution_count": 34,
     "metadata": {},
     "output_type": "execute_result"
    }
   ],
   "source": [
    "cont_sqzd_sorted"
   ]
  },
  {
   "cell_type": "code",
   "execution_count": 50,
   "metadata": {},
   "outputs": [
    {
     "data": {
      "image/png": "[encoded data removed]",
      "text/plain": [
       "<Figure size 576x432 with 1 Axes>"
      ]
     },
     "metadata": {
      "needs_background": "light"
     },
     "output_type": "display_data"
    }
   ],
   "source": [
    "lamb=np.array([cont_sqzd[i][3] for i in range(len(cont_sqzd))])\n",
    "plt.figure(figsize=(8,6))\n",
    "plt.hist(lamb)\n",
    "plt.axvline(lamb.mean(), color='k', linestyle='dashed', linewidth=1)\n",
    "min_ylim, max_ylim = plt.ylim()\n",
    "plt.text(lamb.mean()*1.1, max_ylim*0.9, 'Mean: {:.2f}'.format(lamb.mean()))\n",
    "plt.yscale('log')\n",
    "plt.xlabel('lambda')\n",
    "plt.ylabel('frequency')\n",
    "plt.show()"
   ]
  },
  {
   "cell_type": "code",
   "execution_count": 43,
   "metadata": {},
   "outputs": [],
   "source": []
  },
  {
   "cell_type": "code",
   "execution_count": 41,
   "metadata": {},
   "outputs": [
    {
     "data": {
      "text/plain": [
       "0.036524910025633406"
      ]
     },
     "execution_count": 41,
     "metadata": {},
     "output_type": "execute_result"
    }
   ],
   "source": []
  },
  {
   "cell_type": "code",
   "execution_count": null,
   "metadata": {},
   "outputs": [],
   "source": []
  }
 ],
 "metadata": {
  "kernelspec": {
   "display_name": "Python 3",
   "language": "python",
   "name": "python3"
  },
  "language_info": {
   "codemirror_mode": {
    "name": "ipython",
    "version": 3
   },
   "file_extension": ".py",
   "mimetype": "text/x-python",
   "name": "python",
   "nbconvert_exporter": "python",
   "pygments_lexer": "ipython3",
   "version": "3.7.5"
  }
 },
 "nbformat": 4,
 "nbformat_minor": 4
}
